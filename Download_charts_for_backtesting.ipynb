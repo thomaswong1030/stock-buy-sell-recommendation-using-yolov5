{
 "cells": [
  {
   "cell_type": "markdown",
   "id": "6ed90191",
   "metadata": {},
   "source": [
    "# This script retrieves data for backtesting by plotting 100 day charts with 5 fake candlesticks at the end (100 real candles + 5 fake candles)."
   ]
  },
  {
   "cell_type": "code",
   "execution_count": null,
   "id": "7d31d1d5",
   "metadata": {},
   "outputs": [],
   "source": [
    "import pandas as pd\n",
    "\n",
    "#make sure you've downloaded mplfinance\n",
    "import mplfinance as mpf\n",
    "\n",
    "#make sure you've downloaded yfinance\n",
    "import yfinance as yf\n",
    "\n",
    "import datetime"
   ]
  },
  {
   "cell_type": "code",
   "execution_count": null,
   "id": "5525dc04",
   "metadata": {},
   "outputs": [],
   "source": [
    "##################################################################################\n",
    "#######################CHANGE STOCK NAME HERE#####################################\n",
    "##################################################################################\n",
    "stock = 'COST'\n",
    "\n",
    "##################################################################################\n",
    "#######################CHANGE Start ands End Dates################################\n",
    "##################################################################################\n",
    "start_date = \"2020-11-01\"\n",
    "end_date = '2022-2-28'\n",
    "\n",
    "df = yf.download(stock, start=start_date, end = end_date) \n",
    "#drop the 'Adj Close' since this is not required for plotting the candlestick chart\n",
    "df = df.drop('Adj Close',axis=1)\n",
    "\n",
    "#number of days per chart\n",
    "step = 100\n",
    "\n",
    "for i in range(0,len(df)-99):\n",
    "    mc = mpf.make_marketcolors(up='#00ff00',down='#ff0000')\n",
    "    # Green:'#00ff00'; red:'#ff0000'\n",
    "    s  = mpf.make_mpf_style(marketcolors=mc,facecolor='#B8B8B8') #set the background to grey for easier labelling\n",
    "\n",
    "    #title = stock ticker + first day + last day + number of days on the chart\n",
    "    title = stock + ' '+ str(df[i:step+i].index[0].date())+' to '+ str(df[i:step+i].index[-1].date()) +\\\n",
    "    '(' + str(len(df[i:step+i])) + ' Days)'\n",
    "\n",
    "    #plot and save the graph\n",
    "    ######################################################################################\n",
    "    #######################CHANGE DIRECTORY NAME HERE#####################################\n",
    "    ######################################################################################\n",
    "    chart_name_location = 'C:/Users/Thomas/Desktop/FTDS bootcamp/Collab Project/TSLA_charts_fake_candles/'+title\n",
    "\n",
    "\n",
    "\n",
    "    #replace the last 5 candle sticks with the 94th candlestick\n",
    "\n",
    "    test_95 = df[i:step+i]\n",
    "    last_5 = test_95.iloc[-5:]\n",
    "    last_5.drop(['Open','High','Low','Close','Volume'],axis=1)\n",
    "\n",
    "    ones = {'Open':[1,1,1,1,1],'High':[1,1,1,1,1],'Low':[1,1,1,1,1],'Close':[1,1,1,1,1],'Volume':[1,1,1,1,1]}\n",
    "    ones_df = pd.DataFrame(ones)\n",
    "    result = pd.concat([last_5.drop(['Open','High','Low','Close','Volume'],axis=1), ones_df.set_index(last_5.index)],axis=1)\n",
    "\n",
    "    #######100 day per chart, with 95 real candles and 5 fake candles\n",
    "    last_open = test_95.iloc[94]['Open']   \n",
    "    last_high = test_95.iloc[94]['High']\n",
    "    last_low = test_95.iloc[94]['Low']\n",
    "    last_close = test_95.iloc[94]['Close']\n",
    "\n",
    "    result['Open'].replace(1,last_open,inplace=True)\n",
    "    result['High'].replace(1,last_high,inplace=True)\n",
    "    result['Low'].replace(1,last_low,inplace=True)\n",
    "    result['Close'].replace(1,last_close,inplace=True)\n",
    "    df_with_fake_candles = test_95[0:95].append(result)    \n",
    "\n",
    "\n",
    "    #can change the chart size here: figsize = (?,?)\n",
    "    mpf.plot(df_with_fake_candles,type='candle',figsize=(20,10),title=title,style=s,savefig=chart_name_location)\n",
    "print('Charts of '+ stock + ' saved!')"
   ]
  },
  {
   "cell_type": "code",
   "execution_count": null,
   "id": "f7534847",
   "metadata": {},
   "outputs": [],
   "source": []
  }
 ],
 "metadata": {
  "kernelspec": {
   "display_name": "Python 3 (ipykernel)",
   "language": "python",
   "name": "python3"
  },
  "language_info": {
   "codemirror_mode": {
    "name": "ipython",
    "version": 3
   },
   "file_extension": ".py",
   "mimetype": "text/x-python",
   "name": "python",
   "nbconvert_exporter": "python",
   "pygments_lexer": "ipython3",
   "version": "3.9.7"
  }
 },
 "nbformat": 4,
 "nbformat_minor": 5
}
